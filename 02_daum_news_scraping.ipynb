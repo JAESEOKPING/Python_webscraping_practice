{
 "cells": [
  {
   "cell_type": "code",
   "execution_count": 4,
   "id": "e8d0ce56",
   "metadata": {},
   "outputs": [
    {
     "name": "stdout",
     "output_type": "stream",
     "text": [
      "------------------------- 최신뉴스 -------------------------\n",
      "1. //news.nate.com/view/20250725n08306?mid=n0100\n",
      "제목: 국립발레단 '인어공주' 돌아온다…8월 정기공연으로 다시 무대에국립발레단 '인어공주' 공연 모습(국립발레단 제공) (서울=뉴스1) 정수영 기자 = 국립발레단이 제206회 정기 공연으로 '인어공주'를 오는 8월 13일부터 17일까지 서울 서초...\n",
      "링크: https://news.nate.com/view/20250725n08306?mid=n0100\n",
      "이미지:\n"
     ]
    },
    {
     "data": {
      "text/html": [
       "<img src=\"https://thumbnews.nateimg.co.kr/news90///news.nateimg.co.kr/orgImg/na/2025/07/25/7412722_high.jpg\"/>"
      ],
      "text/plain": [
       "<IPython.core.display.Image object>"
      ]
     },
     "metadata": {},
     "output_type": "display_data"
    },
    {
     "name": "stdout",
     "output_type": "stream",
     "text": [
      "--------------------------------------------------\n",
      "1. //news.nate.com/view/20250725n00347?mid=n0100\n",
      "제목: 공기저항 세계 최저…현대차 '에어로 챌린지 카' 공개현대차·기아 남양연구소에서 공기저항 성능을 시험 중인 현대차'아이오닉 6'의 모습. 현대차는 이 차량을 기반으로 개발한 '에어로 챌린지 카'는 보안상의 이유로 사진 촬...\n",
      "링크: https://news.nate.com/view/20250725n00347?mid=n0100\n",
      "이미지:\n"
     ]
    },
    {
     "data": {
      "text/html": [
       "<img src=\"https://thumbnews.nateimg.co.kr/news90///news.nateimg.co.kr/orgImg/ch/2025/07/25/ch_1753404431393_732603_0.jpg\"/>"
      ],
      "text/plain": [
       "<IPython.core.display.Image object>"
      ]
     },
     "metadata": {},
     "output_type": "display_data"
    },
    {
     "name": "stdout",
     "output_type": "stream",
     "text": [
      "--------------------------------------------------\n",
      "1. //news.nate.com/view/20250725n08304?mid=n0100\n",
      "제목: 잡코리아 외국인 채용 플랫폼 클릭, 1년간 채용 공고 14만건 확보잡코리아 외국인 채용 플랫폼 클릭 출시 1년 성과(잡코리아 제공) (서울=뉴스1) 이정후 기자 = 출시 1주년을 맞은 잡코리아의 외국인 구인·구직 서비스 '클릭'(KLiK)은 누...\n",
      "링크: https://news.nate.com/view/20250725n08304?mid=n0100\n",
      "이미지:\n"
     ]
    },
    {
     "data": {
      "text/html": [
       "<img src=\"https://thumbnews.nateimg.co.kr/news90///news.nateimg.co.kr/orgImg/na/2025/07/25/7412747_high.jpg\"/>"
      ],
      "text/plain": [
       "<IPython.core.display.Image object>"
      ]
     },
     "metadata": {},
     "output_type": "display_data"
    },
    {
     "name": "stdout",
     "output_type": "stream",
     "text": [
      "--------------------------------------------------\n",
      "1. //news.nate.com/view/20250725n08303?mid=n0100\n",
      "제목: BNK부산은행, '소셜아이어워드 2025' 금융혁신대상 수상핵심요약유튜브·인스타그램 등 SNS 채널 운영 성과로 금융권 차별화 인정BNK부산은행은 24일 오후 서울 양재 엘타워에서 열린 '소셜아이어워드 2025'에서 금융혁신대상을 ...\n",
      "링크: https://news.nate.com/view/20250725n08303?mid=n0100\n",
      "이미지:\n"
     ]
    },
    {
     "data": {
      "text/html": [
       "<img src=\"https://thumbnews.nateimg.co.kr/news90///news.nateimg.co.kr/orgImg/cb/2025/07/25/202507250925347881_0.jpg\"/>"
      ],
      "text/plain": [
       "<IPython.core.display.Image object>"
      ]
     },
     "metadata": {},
     "output_type": "display_data"
    },
    {
     "name": "stdout",
     "output_type": "stream",
     "text": [
      "--------------------------------------------------\n",
      "1. //news.nate.com/view/20250725n02427?mid=n0100\n",
      "제목: \"관세 위력 확인\"…미·일 합의에 '이중고'…현대차·기아 '절박'정의선 현대차그룹 회장이 26일(현지시간) 미국 조지아주 엘라벨에 위치한 ‘현대자동차그룹 메타플랜트 아메리카(Hyundai Motor Group Metaplant America, HMGMA)’ 준공...\n",
      "링크: https://news.nate.com/view/20250725n02427?mid=n0100\n",
      "이미지:\n"
     ]
    },
    {
     "data": {
      "text/html": [
       "<img src=\"https://thumbnews.nateimg.co.kr/news90///news.nateimg.co.kr/orgImg/na/2025/07/25/7203108_high.jpg\"/>"
      ],
      "text/plain": [
       "<IPython.core.display.Image object>"
      ]
     },
     "metadata": {},
     "output_type": "display_data"
    },
    {
     "name": "stdout",
     "output_type": "stream",
     "text": [
      "--------------------------------------------------\n",
      "1. //news.nate.com/view/20250725n05453?mid=n0100\n",
      "제목: [포토] 채수빈 '완벽한 미모'배우 채수빈이 25일 서울 영등포구 더현대에서 열린 한 패션 브랜드 포토월 행사에 참석해 포토타임을 갖고 있다. 한윤종 기자 hyj0709@segye.com ▶ “이혼 남 일 같지 않...\n",
      "링크: https://news.nate.com/view/20250725n05453?mid=n0100\n",
      "이미지:\n"
     ]
    },
    {
     "data": {
      "text/html": [
       "<img src=\"https://thumbnews.nateimg.co.kr/news90///news.nateimg.co.kr/orgImg/sg/2025/07/25/20250725503682.jpg\"/>"
      ],
      "text/plain": [
       "<IPython.core.display.Image object>"
      ]
     },
     "metadata": {},
     "output_type": "display_data"
    },
    {
     "name": "stdout",
     "output_type": "stream",
     "text": [
      "--------------------------------------------------\n",
      "------------------------- 정치 -------------------------\n",
      "1. //news.nate.com/view/20250725n08223?mid=n0200\n",
      "제목: 尹 신고 재산 79억 중 73억은 김건희 명의윤석열 전 대통령이 약 79억 원의 재산을 신고한 가운데 이중 73억 원이 부인 김건희 여사 명의인 것으로 나타났다. 정부공직자윤리위원회는 25일 관보를 통해 공개한 ‘7...\n",
      "링크: https://news.nate.com/view/20250725n08223?mid=n0200\n",
      "이미지:\n"
     ]
    },
    {
     "data": {
      "text/html": [
       "<img src=\"https://thumbnews.nateimg.co.kr/news90///news.nateimg.co.kr/orgImg/mh/2025/07/25/news-p.v1.20250725.85232874fdc64ea59925a0984958b623_P1.jpg\"/>"
      ],
      "text/plain": [
       "<IPython.core.display.Image object>"
      ]
     },
     "metadata": {},
     "output_type": "display_data"
    },
    {
     "name": "stdout",
     "output_type": "stream",
     "text": [
      "--------------------------------------------------\n",
      "1. //news.nate.com/view/20250725n08169?mid=n0200\n",
      "제목: 진성준, 배당소득세제 개편에 문제제기…\"결국 극소수의 주식재벌들만 혜택\"진성준 더불어민주당 정책위의장은 25일 정부가 추진 중인 것으로 알려진 '주식 배당소득세제 개편'과 관련해 신중한 접근을 당부했다. 제도 개편이 극소수 재벌들에게만 ...\n",
      "링크: https://news.nate.com/view/20250725n08169?mid=n0200\n",
      "이미지:\n"
     ]
    },
    {
     "data": {
      "text/html": [
       "<img src=\"https://thumbnews.nateimg.co.kr/news90///news.nateimg.co.kr/orgImg/ae/2025/07/25/ae_1753404306286_837810_0.jpg\"/>"
      ],
      "text/plain": [
       "<IPython.core.display.Image object>"
      ]
     },
     "metadata": {},
     "output_type": "display_data"
    },
    {
     "name": "stdout",
     "output_type": "stream",
     "text": [
      "--------------------------------------------------\n",
      "1. //news.nate.com/view/20250725n08167?mid=n0200\n",
      "제목: 주진우 \"개헌 저지선 위협은 안 돼…'윤어게인', 명확한 반대\"[서울=뉴시스] 김명년 기자 = 주진우 국민의힘 의원이 24일 오전 서울 여의도 국회 소통관에서 당대표 출마선언 기자회견을 하고 있다. 2025.07.24. kmn@newsis.com [서울=...\n",
      "링크: https://news.nate.com/view/20250725n08167?mid=n0200\n",
      "이미지:\n"
     ]
    },
    {
     "data": {
      "text/html": [
       "<img src=\"https://thumbnews.nateimg.co.kr/news90///news.nateimg.co.kr/orgImg/ns/2025/07/25/NISI20250724_0020902036_web.jpg\"/>"
      ],
      "text/plain": [
       "<IPython.core.display.Image object>"
      ]
     },
     "metadata": {},
     "output_type": "display_data"
    },
    {
     "name": "stdout",
     "output_type": "stream",
     "text": [
      "--------------------------------------------------\n",
      "1. //news.nate.com/view/20250725n08149?mid=n0200\n",
      "제목: 여야 내주 국회 윤리특위 구성 논의…이준석·강선우 징계안 오르나[이데일리 박종화 기자] 여야가 상대 당을 겨냥한 징계안을 쏟아내는 가운에 조만간 국회 윤리특별위원회가 구성될 것으로 보인다.국민의힘 유상범 원내수석부대표가 24일 ...\n",
      "링크: https://news.nate.com/view/20250725n08149?mid=n0200\n",
      "이미지:\n"
     ]
    },
    {
     "data": {
      "text/html": [
       "<img src=\"https://thumbnews.nateimg.co.kr/news90///news.nateimg.co.kr/orgImg/ed/2025/07/25/PS25072500487.jpg\"/>"
      ],
      "text/plain": [
       "<IPython.core.display.Image object>"
      ]
     },
     "metadata": {},
     "output_type": "display_data"
    },
    {
     "name": "stdout",
     "output_type": "stream",
     "text": [
      "--------------------------------------------------\n",
      "1. //news.nate.com/view/20250725n07364?mid=n0200\n",
      "제목: 절차 없이 선별?…김어준, 대통령실 출입기자단에 포함됐다 [지금이뉴스]대통령실은 24일 유튜브 기반 매체인 '김어준의 뉴스공장', '고발뉴스', '취재편의점' 등 3곳을 대통령실 출입 기자단에 포함시켰다고 밝혔습니다. 이들 매체는 친여 성향 ...\n",
      "링크: https://news.nate.com/view/20250725n07364?mid=n0200\n",
      "이미지:\n"
     ]
    },
    {
     "data": {
      "text/html": [
       "<img src=\"https://thumbnews.nateimg.co.kr/news90///news.nateimg.co.kr/orgImg/yn/2025/07/25/202507250913538375_t.jpg\"/>"
      ],
      "text/plain": [
       "<IPython.core.display.Image object>"
      ]
     },
     "metadata": {},
     "output_type": "display_data"
    },
    {
     "name": "stdout",
     "output_type": "stream",
     "text": [
      "--------------------------------------------------\n",
      "1. //news.nate.com/view/20250725n08071?mid=n0200\n",
      "제목: 영부인 김혜경 여사, 가평 수해현장서 봉사활동복구 작업 돕고 군 장병에 식사 배식영부인 김혜경 여사가 24일 오전 경기도 가평군 백둔리 수해현장을 찾아 피해 복구 작업을 돕고 있다. /대통령실[더팩트ㅣ이헌일 기자]...\n",
      "링크: https://news.nate.com/view/20250725n08071?mid=n0200\n",
      "이미지:\n"
     ]
    },
    {
     "data": {
      "text/html": [
       "<img src=\"https://thumbnews.nateimg.co.kr/news90///news.nateimg.co.kr/orgImg/ss/2025/07/25/202578631753403575.jpg\"/>"
      ],
      "text/plain": [
       "<IPython.core.display.Image object>"
      ]
     },
     "metadata": {},
     "output_type": "display_data"
    },
    {
     "name": "stdout",
     "output_type": "stream",
     "text": [
      "--------------------------------------------------\n",
      "------------------------- 경제 -------------------------\n",
      "1. //news.nate.com/view/20250725n08249?mid=n0300\n",
      "제목: 용인 역북동에 '시몬스맨션 용인시청점' 오픈시몬스맨션 용인시청점 (시몬스 제공. 재판매 및 DB금지) (서울=뉴스1) 장시온 기자 = 시몬스는 경기 용인 처인구 역북동에 '시몬스맨션 용인시청점'을 오픈했다고 25일 밝...\n",
      "링크: https://news.nate.com/view/20250725n08249?mid=n0300\n",
      "이미지:\n"
     ]
    },
    {
     "data": {
      "text/html": [
       "<img src=\"https://thumbnews.nateimg.co.kr/news90///news.nateimg.co.kr/orgImg/na/2025/07/25/7412716_high.jpg\"/>"
      ],
      "text/plain": [
       "<IPython.core.display.Image object>"
      ]
     },
     "metadata": {},
     "output_type": "display_data"
    },
    {
     "name": "stdout",
     "output_type": "stream",
     "text": [
      "--------------------------------------------------\n",
      "1. //news.nate.com/view/20250725n08248?mid=n0300\n",
      "제목: 글라스락, 소셜아이어워드 2개 부문서 대상 수상SGC솔루션의 글라스락이 '소셜아이어워드 2025' 2개 부문에서 대상을 받았다. (SGC솔루션 제공) (서울=뉴스1) 이민주 기자 = SGC솔루션은 글라스락이 '소셜아이어워드 2025...\n",
      "링크: https://news.nate.com/view/20250725n08248?mid=n0300\n",
      "이미지:\n"
     ]
    },
    {
     "data": {
      "text/html": [
       "<img src=\"https://thumbnews.nateimg.co.kr/news90///news.nateimg.co.kr/orgImg/na/2025/07/25/7412694_high.jpg\"/>"
      ],
      "text/plain": [
       "<IPython.core.display.Image object>"
      ]
     },
     "metadata": {},
     "output_type": "display_data"
    },
    {
     "name": "stdout",
     "output_type": "stream",
     "text": [
      "--------------------------------------------------\n",
      "1. //news.nate.com/view/20250725n08245?mid=n0300\n",
      "제목: 인텔, 직원 15% 줄이고 AI칩 전략 집중…獨·폴란드 공장 철회인텔 ⓒ 로이터=뉴스1 (서울=뉴스1) 신기림 기자 = 미국 반도체 인텔이 인공지능(AI) 칩 시장에 전략을 다시 집중하기 위해 인력 15%를 감축하고 독일과 폴란드의 공장건설...\n",
      "링크: https://news.nate.com/view/20250725n08245?mid=n0300\n",
      "이미지:\n"
     ]
    },
    {
     "data": {
      "text/html": [
       "<img src=\"https://thumbnews.nateimg.co.kr/news90///news.nateimg.co.kr/orgImg/na/2025/07/25/6587790_high.jpg\"/>"
      ],
      "text/plain": [
       "<IPython.core.display.Image object>"
      ]
     },
     "metadata": {},
     "output_type": "display_data"
    },
    {
     "name": "stdout",
     "output_type": "stream",
     "text": [
      "--------------------------------------------------\n",
      "1. //news.nate.com/view/20250725n08243?mid=n0300\n",
      "제목: [특징주] 현대글로비스, 2분기 역대 최대 실적 달성 소식에 5%↑[이투데이/박정호 기자]현대글로비스가 분기 기준 최대 매출액과 영업이익을 달성했다는 소식에 상승세다.25일 오전 9시 43분 현재 현대글로비스는 전 거래일 대비 5.41% ...\n",
      "링크: https://news.nate.com/view/20250725n08243?mid=n0300\n",
      "이미지:\n"
     ]
    },
    {
     "data": {
      "text/html": [
       "<img src=\"https://thumbnews.nateimg.co.kr/news90///news.nateimg.co.kr/orgImg/ey/2025/07/25/20250725094316_2203726_600_400.jpg\"/>"
      ],
      "text/plain": [
       "<IPython.core.display.Image object>"
      ]
     },
     "metadata": {},
     "output_type": "display_data"
    },
    {
     "name": "stdout",
     "output_type": "stream",
     "text": [
      "--------------------------------------------------\n",
      "1. //news.nate.com/view/20250725n08236?mid=n0300\n",
      "제목: DB손보, 설채현·이기우와 기부 펫보험 선보여…119은퇴견 후원DB손해보험은 119은퇴견을 후원하는 펫보험 상품 ‘설채현·이기우의 세이브펫플랜’ 다이렉트 펫블리 반려견보험을 선보인다고 25일 밝혔다.DB손해보험은 수의사 설채현, ...\n",
      "링크: https://news.nate.com/view/20250725n08236?mid=n0300\n",
      "이미지:\n"
     ]
    },
    {
     "data": {
      "text/html": [
       "<img src=\"https://thumbnews.nateimg.co.kr/news90///news.nateimg.co.kr/orgImg/di/2025/07/25/954c5baa955b7f69b2a130274e3e9518_thumb.jpg\"/>"
      ],
      "text/plain": [
       "<IPython.core.display.Image object>"
      ]
     },
     "metadata": {},
     "output_type": "display_data"
    },
    {
     "name": "stdout",
     "output_type": "stream",
     "text": [
      "--------------------------------------------------\n",
      "1. //news.nate.com/view/20250725n08234?mid=n0300\n",
      "제목: 상반기 펀드 이익배당금 23조5000억…전년 대비 1.8% 증가[이투데이/정회인 기자]한국예탁결제원은 상반기 펀드 이익배당금 지급액이 23조4699억 원으로, 전년 동기 23조443억 원 대비 1.8% 증가했다고 25일 밝혔다.공모펀드는 6.7...\n",
      "링크: https://news.nate.com/view/20250725n08234?mid=n0300\n",
      "이미지:\n"
     ]
    },
    {
     "data": {
      "text/html": [
       "<img src=\"https://thumbnews.nateimg.co.kr/news90///news.nateimg.co.kr/orgImg/ey/2025/07/25/20240523084827_2028101_600_774.jpg\"/>"
      ],
      "text/plain": [
       "<IPython.core.display.Image object>"
      ]
     },
     "metadata": {},
     "output_type": "display_data"
    },
    {
     "name": "stdout",
     "output_type": "stream",
     "text": [
      "--------------------------------------------------\n",
      "------------------------- 사회 -------------------------\n",
      "1. //news.nate.com/view/20250725n08247?mid=n0400\n",
      "제목: 보은군 '스마트 먹거리 유통센터' 운영 준비 착착보은지역 농민들이 충남 태안군 로컬푸드 직매장을 찾아 운영 현황을 듣고 있다. (보은군 제공, 재판매 및 DB금지) /뉴스1 (보은=뉴스1) 장인수 기자 = 충북 보은군이 결초...\n",
      "링크: https://news.nate.com/view/20250725n08247?mid=n0400\n",
      "이미지:\n"
     ]
    },
    {
     "data": {
      "text/html": [
       "<img src=\"https://thumbnews.nateimg.co.kr/news90///news.nateimg.co.kr/orgImg/na/2025/07/25/7412759_high.jpg\"/>"
      ],
      "text/plain": [
       "<IPython.core.display.Image object>"
      ]
     },
     "metadata": {},
     "output_type": "display_data"
    },
    {
     "name": "stdout",
     "output_type": "stream",
     "text": [
      "--------------------------------------------------\n",
      "1. //news.nate.com/view/20250725n04232?mid=n0400\n",
      "제목: [속보] 특검, 김건희·모친·오빠 자택·사무실 동시 압수수색서울 서초구 아크로비스타 모습. 뉴스1 김건희 여사 관련 의혹들을 수사하는 민중기 특별검사팀이 25일 김 여사 자택 등에 대한 압수수색에 착수했다. 법조계에 따르면 특...\n",
      "링크: https://news.nate.com/view/20250725n04232?mid=n0400\n",
      "이미지:\n"
     ]
    },
    {
     "data": {
      "text/html": [
       "<img src=\"https://thumbnews.nateimg.co.kr/news90///news.nateimg.co.kr/orgImg/jo/2025/07/25/a5e42dcd-e4d3-4af2-9b53-3817a6f9dc59.jpg\"/>"
      ],
      "text/plain": [
       "<IPython.core.display.Image object>"
      ]
     },
     "metadata": {},
     "output_type": "display_data"
    },
    {
     "name": "stdout",
     "output_type": "stream",
     "text": [
      "--------------------------------------------------\n",
      "1. //news.nate.com/view/20250725n08238?mid=n0400\n",
      "제목: 인하대 김소연 석사과정생, 국제재료학회서 우수 포스터 발표상김소연 인하대학교 고분자환경융합공학과 석사과정 학생이 국제재료학회 'ICMAT 2025'에서 포스터 우수 발표상을 받았다.(인하대 제공. 재배포 및 DB금지)2025.7.25/뉴스1 ...\n",
      "링크: https://news.nate.com/view/20250725n08238?mid=n0400\n",
      "이미지:\n"
     ]
    },
    {
     "data": {
      "text/html": [
       "<img src=\"https://thumbnews.nateimg.co.kr/news90///news.nateimg.co.kr/orgImg/na/2025/07/25/7412793_high.jpg\"/>"
      ],
      "text/plain": [
       "<IPython.core.display.Image object>"
      ]
     },
     "metadata": {},
     "output_type": "display_data"
    },
    {
     "name": "stdout",
     "output_type": "stream",
     "text": [
      "--------------------------------------------------\n",
      "1. //news.nate.com/view/20250725n08229?mid=n0400\n",
      "제목: 병역판정검사 28∼31일 혹서기 휴무…내달 1일 재개▲ 지난 1월 인천지방병무청에서 올해 첫 병역판정검사를 받는 장정들\n",
      "\n",
      "병무청은 오는 28일부터 31일까지 병역판정검사를 실시하지 않는다고 오늘(25일) 밝혔습니...\n",
      "링크: https://news.nate.com/view/20250725n08229?mid=n0400\n",
      "이미지:\n"
     ]
    },
    {
     "data": {
      "text/html": [
       "<img src=\"https://thumbnews.nateimg.co.kr/news90///news.nateimg.co.kr/orgImg/sv/2025/07/25/202091042_700.jpg\"/>"
      ],
      "text/plain": [
       "<IPython.core.display.Image object>"
      ]
     },
     "metadata": {},
     "output_type": "display_data"
    },
    {
     "name": "stdout",
     "output_type": "stream",
     "text": [
      "--------------------------------------------------\n",
      "1. //news.nate.com/view/20250725n08226?mid=n0400\n",
      "제목: 광주 신안교 마지막 실종자 수색 장기화…헬기·드론 총동원(광주=연합뉴스) 김혜인 기자 = 경찰과 소방 당국이 광주에서 폭우로 행방불명된 마지막 실종자 수색에 연일 총력을 기울이고 있다. 25일 광주 북부경찰서에 따르면 경찰과...\n",
      "링크: https://news.nate.com/view/20250725n08226?mid=n0400\n",
      "이미지:\n"
     ]
    },
    {
     "data": {
      "text/html": [
       "<img src=\"https://thumbnews.nateimg.co.kr/news90///news.nateimg.co.kr/orgImg/yt/2025/07/25/PYH2025071812320005400_P2.jpg\"/>"
      ],
      "text/plain": [
       "<IPython.core.display.Image object>"
      ]
     },
     "metadata": {},
     "output_type": "display_data"
    },
    {
     "name": "stdout",
     "output_type": "stream",
     "text": [
      "--------------------------------------------------\n",
      "1. //news.nate.com/view/20250725n08224?mid=n0400\n",
      "제목: '자유시간 꿀팁' 전락한 학업 중단 숙려제…자퇴율은 오히려 증가광주광역시 한 중학교의 교사 A(37)씨는 지난해 말 “선생님 반 학생 B가 오토바이를 훔치다 적발됐다”는 경찰 통보를 받았다. B는 지난해 가을부터 지각과 조퇴를 반복하...\n",
      "링크: https://news.nate.com/view/20250725n08224?mid=n0400\n",
      "이미지:\n"
     ]
    },
    {
     "data": {
      "text/html": [
       "<img src=\"https://thumbnews.nateimg.co.kr/news90///news.nateimg.co.kr/orgImg/ch/2025/07/25/ch_1753404364448_596685_0.jpg\"/>"
      ],
      "text/plain": [
       "<IPython.core.display.Image object>"
      ]
     },
     "metadata": {},
     "output_type": "display_data"
    },
    {
     "name": "stdout",
     "output_type": "stream",
     "text": [
      "--------------------------------------------------\n",
      "------------------------- 세계 -------------------------\n",
      "1. //news.nate.com/view/20250725n07383?mid=n0500\n",
      "제목: 연봉 10억→20억, 4년 만에 수직 상승?…대박 터진 뜻밖의 비결오델 베컴 주니어 \"비트코인 연봉 다들 의심했는데…이제 내가 웃을 차례\" 4년 전 연봉 기본급을 비트코인으로 받은 미국 프로미식축구(NFL) 선수 오델 베컴 주니어(33)가 ...\n",
      "링크: https://news.nate.com/view/20250725n07383?mid=n0500\n",
      "이미지:\n"
     ]
    },
    {
     "data": {
      "text/html": [
       "<img src=\"https://thumbnews.nateimg.co.kr/news90///news.nateimg.co.kr/orgImg/mt/2025/07/25/mt_1753404364870_412073_0.jpg\"/>"
      ],
      "text/plain": [
       "<IPython.core.display.Image object>"
      ]
     },
     "metadata": {},
     "output_type": "display_data"
    },
    {
     "name": "stdout",
     "output_type": "stream",
     "text": [
      "--------------------------------------------------\n",
      "1. //news.nate.com/view/20250725n00737?mid=n0500\n",
      "제목: '프로레슬링 전설' 헐크 호건 별세···트럼프 \"그는 거대한 심장의 MAGA\"헐크 호건. AP연합뉴스[서울경제] 프로레슬링계의 전설로 평가되는 헐크 호건이 71세를 일기로 별세했다. TMZ스포츠는 24일(현지 시간) 플로리다에 있는 호건의 자택에 구...\n",
      "링크: https://news.nate.com/view/20250725n00737?mid=n0500\n",
      "이미지:\n"
     ]
    },
    {
     "data": {
      "text/html": [
       "<img src=\"https://thumbnews.nateimg.co.kr/news90///news.nateimg.co.kr/orgImg/se/2025/07/25/2GVHHUAUYU_5.jpg\"/>"
      ],
      "text/plain": [
       "<IPython.core.display.Image object>"
      ]
     },
     "metadata": {},
     "output_type": "display_data"
    },
    {
     "name": "stdout",
     "output_type": "stream",
     "text": [
      "--------------------------------------------------\n",
      "1. //news.nate.com/view/20250725n08151?mid=n0500\n",
      "제목: 여성전용 주차구역에 음란 낙서…스페인, 성차별 논란스페인의 한 도시가 여성 전용 주차 구역을 도입하며 논란의 중심에 섰다. 남녀를 불문하고 \"성차별적 조치\"라는 비판이 잇따르고 있다.23일(현지시간) 프랑스 일간 르파리...\n",
      "링크: https://news.nate.com/view/20250725n08151?mid=n0500\n",
      "이미지:\n"
     ]
    },
    {
     "data": {
      "text/html": [
       "<img src=\"https://thumbnews.nateimg.co.kr/news90///news.nateimg.co.kr/orgImg/ae/2025/07/25/ae_1753404246645_472495_0.jpg\"/>"
      ],
      "text/plain": [
       "<IPython.core.display.Image object>"
      ]
     },
     "metadata": {},
     "output_type": "display_data"
    },
    {
     "name": "stdout",
     "output_type": "stream",
     "text": [
      "--------------------------------------------------\n",
      "1. //news.nate.com/view/20250725n08087?mid=n0500\n",
      "제목: 日증시, 과열 경계에 하락 출발…닛케이지수 0.16%↓[서울=뉴시스] 김예진 기자 = 25일 일본 도쿄증시에서 닛케이225지수(닛케이평균주가)는 하락하며 시작했다. 니혼게이자이신문에 따르면 이날 닛케이지수는 전 거래일 대비...\n",
      "링크: https://news.nate.com/view/20250725n08087?mid=n0500\n",
      "이미지:\n"
     ]
    },
    {
     "data": {
      "text/html": [
       "<img src=\"https://thumbnews.nateimg.co.kr/news90///news.nateimg.co.kr/orgImg/ns/2025/07/25/NISI20250611_0000409980_web.jpg\"/>"
      ],
      "text/plain": [
       "<IPython.core.display.Image object>"
      ]
     },
     "metadata": {},
     "output_type": "display_data"
    },
    {
     "name": "stdout",
     "output_type": "stream",
     "text": [
      "--------------------------------------------------\n",
      "1. //news.nate.com/view/20250725n08036?mid=n0500\n",
      "제목: '치매 투병' 브루스 윌리스, 건강 악화 \"말하지도 걷지도 못해\"브루스 윌리스(오른쪽)과 그의 전처 데미 무어./데미무어 SNS 치매로 투병 중인 할리우드 액션 스타 브루스 윌리스의 건강이 악화됐다는 안타까운 소식이 전해졌다.22일(한...\n",
      "링크: https://news.nate.com/view/20250725n08036?mid=n0500\n",
      "이미지:\n"
     ]
    },
    {
     "data": {
      "text/html": [
       "<img src=\"https://thumbnews.nateimg.co.kr/news90///news.nateimg.co.kr/orgImg/at/2025/07/25/20250725000937378_1.png\"/>"
      ],
      "text/plain": [
       "<IPython.core.display.Image object>"
      ]
     },
     "metadata": {},
     "output_type": "display_data"
    },
    {
     "name": "stdout",
     "output_type": "stream",
     "text": [
      "--------------------------------------------------\n",
      "1. //news.nate.com/view/20250725n07962?mid=n0500\n",
      "제목: 유엔과 후원국들, \"2025 레바논 대응계획\" 기금 20억 달러 승인[뉴욕=AP/뉴시스] 나지브 미카티 레바논 총리가 지난 해 10월 25일 미국 뉴욕의 유엔본부에서 열린 안전보장이사회(안보리) 회의에서 연설하고 있다. 2025.07.25. [서울=뉴...\n",
      "링크: https://news.nate.com/view/20250725n07962?mid=n0500\n",
      "이미지:\n"
     ]
    },
    {
     "data": {
      "text/html": [
       "<img src=\"https://thumbnews.nateimg.co.kr/news90///news.nateimg.co.kr/orgImg/ns/2025/07/25/NISI20240926_0001506626_web.jpg\"/>"
      ],
      "text/plain": [
       "<IPython.core.display.Image object>"
      ]
     },
     "metadata": {},
     "output_type": "display_data"
    },
    {
     "name": "stdout",
     "output_type": "stream",
     "text": [
      "--------------------------------------------------\n",
      "------------------------- IT/과학 -------------------------\n",
      "1. //news.nate.com/view/20250725n06140?mid=n0600\n",
      "제목: \"국부 해외로 다 빠진다\"…가상자산 시장 '외국인 개방' 목소리 '솔솔'[헤럴드경제=박세정 기자] 미국 등 세계 주요국들이 친 가상자산 정책에 적극적인 움직임을 보이는 가운데, 한국은 여전히 규제 강화에만 초점이 맞춰져 산업 육성의 동력...\n",
      "링크: https://news.nate.com/view/20250725n06140?mid=n0600\n",
      "이미지:\n"
     ]
    },
    {
     "data": {
      "text/html": [
       "<img src=\"https://thumbnews.nateimg.co.kr/news90///news.nateimg.co.kr/orgImg/hr/2025/07/25/news-p.v1.20250714.cc1a80c49e1f4d9e940da288ff30e85a_P1.jpg\"/>"
      ],
      "text/plain": [
       "<IPython.core.display.Image object>"
      ]
     },
     "metadata": {},
     "output_type": "display_data"
    },
    {
     "name": "stdout",
     "output_type": "stream",
     "text": [
      "--------------------------------------------------\n",
      "1. //news.nate.com/view/20250725n07938?mid=n0600\n",
      "제목: 한미반도체, 차세대 HBM 적층 장비 '하이브리드 본더' 개발 에 1000억원 투자한미반도체, 하이브리드 본더 팩토리 조감도./한미반도체 제공한미반도체가 하이브리드 본딩 기술에 1000억원을 투자한다고 25일 밝혔다. 한미반도체는 2027년 말 하이브리...\n",
      "링크: https://news.nate.com/view/20250725n07938?mid=n0600\n",
      "이미지:\n"
     ]
    },
    {
     "data": {
      "text/html": [
       "<img src=\"https://thumbnews.nateimg.co.kr/news90///news.nateimg.co.kr/orgImg/cz/2025/07/25/cz_1753404364448_673124_0.jpg\"/>"
      ],
      "text/plain": [
       "<IPython.core.display.Image object>"
      ]
     },
     "metadata": {},
     "output_type": "display_data"
    },
    {
     "name": "stdout",
     "output_type": "stream",
     "text": [
      "--------------------------------------------------\n",
      "1. //news.nate.com/view/20250725n08213?mid=n0600\n",
      "제목: 네이버 지도, 여름 맞이 '안전운전 바캉스' 캠페인 진행[서울=뉴시스] 오동현 기자 = 네이버 지도가 여름 휴가철을 맞아 안전운전을 실천한 이용자에게 다양한 혜택을 제공하는 ‘안전운전 바캉스’ 캠페인을 8월 10일까지 진행...\n",
      "링크: https://news.nate.com/view/20250725n08213?mid=n0600\n",
      "이미지:\n"
     ]
    },
    {
     "data": {
      "text/html": [
       "<img src=\"https://thumbnews.nateimg.co.kr/news90///news.nateimg.co.kr/orgImg/ns/2025/07/25/NISI20250725_0001902586_web.jpg\"/>"
      ],
      "text/plain": [
       "<IPython.core.display.Image object>"
      ]
     },
     "metadata": {},
     "output_type": "display_data"
    },
    {
     "name": "stdout",
     "output_type": "stream",
     "text": [
      "--------------------------------------------------\n",
      "1. //news.nate.com/view/20250725n08170?mid=n0600\n",
      "제목: LGU+, 소셜아이어워드 4관왕 쾌거…SNS 강자 입증LG유플러스 직원이 24일 시상식에서 기념촬영을 하고 있고 있다. /사진=LG유플러스LG유플러스는 한국인터넷전문가협회(KIPFA)가 주최하고 아이어워즈위원회가 주관하는 '소...\n",
      "링크: https://news.nate.com/view/20250725n08170?mid=n0600\n",
      "이미지:\n"
     ]
    },
    {
     "data": {
      "text/html": [
       "<img src=\"https://thumbnews.nateimg.co.kr/news90///news.nateimg.co.kr/orgImg/mt/2025/07/25/2025072508420557964_1.jpg\"/>"
      ],
      "text/plain": [
       "<IPython.core.display.Image object>"
      ]
     },
     "metadata": {},
     "output_type": "display_data"
    },
    {
     "name": "stdout",
     "output_type": "stream",
     "text": [
      "--------------------------------------------------\n",
      "1. //news.nate.com/view/20250725n02097?mid=n0600\n",
      "제목: 위기의 K- 제조업 구하라⋯정부·재계·국회 \"피지컬AI\"그룹 총수들의 전략 키워드“SW 중심 제조 패러다임 전환 필요”‘K-제조업’에 경고등이 잇달아 켜지고 있다. 조선, 철강, 석유화학 등 주요 산업단지 곳곳에서 비명이 터...\n",
      "링크: https://news.nate.com/view/20250725n02097?mid=n0600\n",
      "이미지:\n"
     ]
    },
    {
     "data": {
      "text/html": [
       "<img src=\"https://thumbnews.nateimg.co.kr/news90///news.nateimg.co.kr/orgImg/cz/2025/07/25/cz_1753404184331_338738_0.jpg\"/>"
      ],
      "text/plain": [
       "<IPython.core.display.Image object>"
      ]
     },
     "metadata": {},
     "output_type": "display_data"
    },
    {
     "name": "stdout",
     "output_type": "stream",
     "text": [
      "--------------------------------------------------\n",
      "1. //news.nate.com/view/20250725n08089?mid=n0600\n",
      "제목: KT, 산업단지에 재생에너지 직접 공급…제조업 'RE100' 지원한국산업단지공단 인천지역본부 기업진흥팀 권동희 팀장(오른쪽 첫 번째)이 태양광 설비에 대해 설명하고 있다./KT아시아투데이 연찬모 기자 = KT는 한국산업단지공단과 협...\n",
      "링크: https://news.nate.com/view/20250725n08089?mid=n0600\n",
      "이미지:\n"
     ]
    },
    {
     "data": {
      "text/html": [
       "<img src=\"https://thumbnews.nateimg.co.kr/news90///news.nateimg.co.kr/orgImg/at/2025/07/25/2025072501002466500147681.jpg\"/>"
      ],
      "text/plain": [
       "<IPython.core.display.Image object>"
      ]
     },
     "metadata": {},
     "output_type": "display_data"
    },
    {
     "name": "stdout",
     "output_type": "stream",
     "text": [
      "--------------------------------------------------\n"
     ]
    }
   ],
   "source": [
    "import requests\n",
    "from bs4 import BeautifulSoup\n",
    "from urllib.parse import urljoin\n",
    "from IPython.display import Image, display\n",
    "\n",
    "section_dict = {\"최신뉴스\": \"100\", \"정치\": \"200\", \"경제\": \"300\", \"사회\": \"400\", \"세계\": \"500\",\"IT/과학\": \"600\"}\n",
    "\n",
    "def print_news(section_name, seciont_id):  #print_new(103,'생활/문화')\n",
    "    print('-' * 25, section_name, '-' * 25)\n",
    "    \n",
    "    sid= seciont_id\n",
    "    url = f'https://news.nate.com/recent?mid=n0{sid}'\n",
    "\n",
    "    headers = {\n",
    "        \"User-Agent\": \"Mozilla/5.0\"\n",
    "    }\n",
    "    res = requests.get(url, headers=headers)\n",
    "    res.encoding = res.apparent_encoding\n",
    "    soup = BeautifulSoup(res.text,\"html.parser\")  \n",
    "\n",
    "    # 기사 목록 selector는 필요에 따라 변경\n",
    "    articles = soup.select(\"div.mduSubjectList\")\n",
    "\n",
    "    for article in articles[:6]:    # 상위 6개 기사만 출력\n",
    "        a_tag = article.find('a')\n",
    "        if not a_tag:\n",
    "            continue\n",
    "        title = a_tag.get_text(strip=True)\n",
    "        link = urljoin(url, a_tag['href'])\n",
    "        print('1.',a_tag['href'])\n",
    "\n",
    "        img_tag = article.find('img')\n",
    "        img_url = urljoin(url, img_tag['src']) if img_tag and img_tag.get('src') else None\n",
    "\n",
    "        print(\"제목:\", title)\n",
    "        print(\"링크:\", link)\n",
    "        if img_url:\n",
    "            print(\"이미지:\")\n",
    "            display(Image(url=img_url))\n",
    "        else:\n",
    "            print(\"이미지: 없음\")\n",
    "        print('-' * 50)\n",
    "\n",
    "for key, value in section_dict.items():\n",
    "    print_news(key, value)\n",
    "\n"
   ]
  },
  {
   "cell_type": "code",
   "execution_count": 4,
   "id": "3def101a",
   "metadata": {},
   "outputs": [
    {
     "name": "stdout",
     "output_type": "stream",
     "text": [
      "img\\일렉시드341 폴더에 88개 이미지 다운로드 완료\n"
     ]
    }
   ],
   "source": [
    "import os\n",
    "import requests\n",
    "from bs4 import BeautifulSoup\n",
    "\n",
    "def download_one_episode(title, no, url):\n",
    "    # 저장 디렉토리 생성\n",
    "    directory = f\"img\\\\{title}{no}\"\n",
    "    os.makedirs(directory, exist_ok=True)\n",
    "\n",
    "        # 헤더 설정 (403 에러 방지)\n",
    "    headers = {\n",
    "        \"User-Agent\": \"Mozilla/5.0 (Windows NT 10.0; Win64; x64) AppleWebKit/537.36 (KHTML, like Gecko) Chrome/58.0.3029.110 Safari/537.3\"\n",
    "    }\n",
    "\n",
    "    # 웹페이지 가져오기\n",
    "    response = requests.get(url, headers=headers)\n",
    "    response.raise_for_status()\n",
    "\n",
    "    # HTML 파싱\n",
    "    soup = BeautifulSoup(response.text, \"html.parser\")\n",
    "\n",
    "    # 웹툰 본문 이미지 찾기\n",
    "    images = soup.select(\"div.wt_viewer img\")\n",
    "        # 이미지 다운로드\n",
    "    for i, img in enumerate(images, start=1):\n",
    "        img_url = img.get(\"src\")\n",
    "        if not img_url:\n",
    "            continue\n",
    "        ext = os.path.splitext(img_url)[1]\n",
    "        img_path = os.path.join(directory, f\"{i}{ext}\")\n",
    "        img_response = requests.get(img_url, headers=headers)\n",
    "        img_response.raise_for_status()\n",
    "        with open(img_path, \"wb\") as f:\n",
    "            f.write(img_response.content)\n",
    "    print(f\"{directory} 폴더에 {len(images)}개 이미지 다운로드 완료\")\n",
    "\n",
    "# 사용 예시\n",
    "download_one_episode(\n",
    "    \"일렉시드\", \n",
    "    341, \n",
    "    \"https://comic.naver.com/webtoon/detail?titleId=717481&no=341&week=wed\"\n",
    ")"
   ]
  }
 ],
 "metadata": {
  "kernelspec": {
   "display_name": "base",
   "language": "python",
   "name": "python3"
  },
  "language_info": {
   "codemirror_mode": {
    "name": "ipython",
    "version": 3
   },
   "file_extension": ".py",
   "mimetype": "text/x-python",
   "name": "python",
   "nbconvert_exporter": "python",
   "pygments_lexer": "ipython3",
   "version": "3.12.7"
  }
 },
 "nbformat": 4,
 "nbformat_minor": 5
}
