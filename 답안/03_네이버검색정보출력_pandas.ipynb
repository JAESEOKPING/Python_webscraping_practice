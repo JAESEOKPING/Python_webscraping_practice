{
 "cells": [
  {
   "cell_type": "code",
   "execution_count": 5,
   "id": "72ced68d",
   "metadata": {},
   "outputs": [],
   "source": [
    "import requests\n",
    "import os\n",
    "from dotenv import load_dotenv\n",
    "from pprint import pprint\n",
    "import pandas as pd\n",
    "import json\n",
    "\n",
    "# .env 파일에서 환경 변수 로드\n",
    "load_dotenv()\n",
    "\n",
    "# 환경 변수에서 값 읽기\n",
    "client_id = os.getenv(\"NAVER_CLIENT_ID\")  # .env 파일의 NAVER_CLIENT_ID\n",
    "client_secret = os.getenv(\"NAVER_CLIENT_SECRET\")  # .env 파일의 NAVER_CLIENT_SECRET\n",
    "\n",
    "headers = {\n",
    "    'X-Naver-Client-Id': 'kZn6XBWktse9iSJKeOjD',\n",
    "    'X-Naver-Client-Secret': 'qE7bDTTLM6'\n",
    "}\n",
    "\n",
    "def search_books(query, display=50): \n",
    "    # query string 문자열을 dict 선언\n",
    "    payload = {\n",
    "        'query': query,\n",
    "        'display': display,\n",
    "        'sort': 'sim'\n",
    "    }\n",
    "\n",
    "    url = 'https://openapi.naver.com/v1/search/book.json' #?query=파이썬&display=100&sort=sim\n",
    "\n",
    "    # requests get(url, params, headers) 요청 \n",
    "    res = requests.get(url, params=payload, headers=headers)\n",
    "    # json() 함수로 응답 결과 가져오기\n",
    "    items_data = res.json()['items']\n",
    "\n",
    "    return items_data  #[{},{}]\n",
    "\n",
    "# def save_json(items_data):\n",
    "#     with open('../data/books.json','w',encoding='utf-8') as file:\n",
    "#         json.dump(items_data, file)\n",
    "\n",
    "def search_shops(query, display=50): \n",
    "    # query string 문자열을 dict 선언\n",
    "    payload = {\n",
    "        'query': query,\n",
    "        'display': display,\n",
    "        'sort': 'sim'\n",
    "    }\n",
    "\n",
    "    url = 'https://openapi.naver.com/v1/search/shop.json' #?query=파이썬&display=100&sort=sim\n",
    "\n",
    "    res = requests.get(url, params=payload, headers=headers)\n",
    "    # json() 함수로 응답 결과 가져오기\n",
    "    items_data = res.json()['items']\n",
    "    return items_data\n",
    "\n",
    "def save_json(items_data):\n",
    "    with open('../data/books.json','w',encoding='utf-8') as file:\n",
    "        json.dump(items_data, file)\n",
    "\n",
    "def save_json_shop(items_data):\n",
    "    with open('../data/shops.json','w',encoding='utf-8') as file:\n",
    "        json.dump(items_data, file)\n",
    "\n",
    "\n",
    "# if __name__ == '__main__':\n",
    "#     save_json(search_books('파이썬'))        \n",
    "#     save_json_shop(search_shops('가디건'))"
   ]
  },
  {
   "cell_type": "markdown",
   "id": "1d6486ba",
   "metadata": {},
   "source": [
    "### 리팩토링 된 코드"
   ]
  },
  {
   "cell_type": "code",
   "execution_count": 6,
   "id": "be10507b",
   "metadata": {},
   "outputs": [
    {
     "ename": "HTTPError",
     "evalue": "401 Client Error: Unauthorized for url: https://openapi.naver.com/v1/search/book.json?query=%ED%8C%8C%EC%9D%B4%EC%8D%AC&display=50&sort=sim",
     "output_type": "error",
     "traceback": [
      "\u001b[1;31m---------------------------------------------------------------------------\u001b[0m",
      "\u001b[1;31mHTTPError\u001b[0m                                 Traceback (most recent call last)",
      "Cell \u001b[1;32mIn[6], line 39\u001b[0m\n\u001b[0;32m     35\u001b[0m         json\u001b[38;5;241m.\u001b[39mdump(data, f, ensure_ascii\u001b[38;5;241m=\u001b[39m\u001b[38;5;28;01mFalse\u001b[39;00m, indent\u001b[38;5;241m=\u001b[39m\u001b[38;5;241m4\u001b[39m)\n\u001b[0;32m     38\u001b[0m \u001b[38;5;28;01mif\u001b[39;00m \u001b[38;5;18m__name__\u001b[39m \u001b[38;5;241m==\u001b[39m \u001b[38;5;124m'\u001b[39m\u001b[38;5;124m__main__\u001b[39m\u001b[38;5;124m'\u001b[39m:\n\u001b[1;32m---> 39\u001b[0m     books \u001b[38;5;241m=\u001b[39m search_naver_api(\u001b[38;5;124m'\u001b[39m\u001b[38;5;124mbook\u001b[39m\u001b[38;5;124m'\u001b[39m, \u001b[38;5;124m'\u001b[39m\u001b[38;5;124m파이썬\u001b[39m\u001b[38;5;124m'\u001b[39m)\n\u001b[0;32m     40\u001b[0m     save_json(books, \u001b[38;5;124m'\u001b[39m\u001b[38;5;124m../data/books.json\u001b[39m\u001b[38;5;124m'\u001b[39m)\n\u001b[0;32m     42\u001b[0m     shops \u001b[38;5;241m=\u001b[39m search_naver_api(\u001b[38;5;124m'\u001b[39m\u001b[38;5;124mshop\u001b[39m\u001b[38;5;124m'\u001b[39m, \u001b[38;5;124m'\u001b[39m\u001b[38;5;124m가디건\u001b[39m\u001b[38;5;124m'\u001b[39m)\n",
      "Cell \u001b[1;32mIn[6], line 27\u001b[0m, in \u001b[0;36msearch_naver_api\u001b[1;34m(endpoint, query, display)\u001b[0m\n\u001b[0;32m     25\u001b[0m url \u001b[38;5;241m=\u001b[39m \u001b[38;5;124mf\u001b[39m\u001b[38;5;124m'\u001b[39m\u001b[38;5;124mhttps://openapi.naver.com/v1/search/\u001b[39m\u001b[38;5;132;01m{\u001b[39;00mendpoint\u001b[38;5;132;01m}\u001b[39;00m\u001b[38;5;124m.json\u001b[39m\u001b[38;5;124m'\u001b[39m\n\u001b[0;32m     26\u001b[0m res \u001b[38;5;241m=\u001b[39m requests\u001b[38;5;241m.\u001b[39mget(url, params\u001b[38;5;241m=\u001b[39mpayload, headers\u001b[38;5;241m=\u001b[39mheaders)\n\u001b[1;32m---> 27\u001b[0m res\u001b[38;5;241m.\u001b[39mraise_for_status()  \u001b[38;5;66;03m# 에러 발생 시 예외 처리\u001b[39;00m\n\u001b[0;32m     28\u001b[0m \u001b[38;5;28;01mreturn\u001b[39;00m res\u001b[38;5;241m.\u001b[39mjson()\u001b[38;5;241m.\u001b[39mget(\u001b[38;5;124m'\u001b[39m\u001b[38;5;124mitems\u001b[39m\u001b[38;5;124m'\u001b[39m, [])\n",
      "File \u001b[1;32mc:\\Users\\user\\anaconda3\\Lib\\site-packages\\requests\\models.py:1026\u001b[0m, in \u001b[0;36mResponse.raise_for_status\u001b[1;34m(self)\u001b[0m\n\u001b[0;32m   1021\u001b[0m     http_error_msg \u001b[38;5;241m=\u001b[39m (\n\u001b[0;32m   1022\u001b[0m         \u001b[38;5;124mf\u001b[39m\u001b[38;5;124m\"\u001b[39m\u001b[38;5;132;01m{\u001b[39;00m\u001b[38;5;28mself\u001b[39m\u001b[38;5;241m.\u001b[39mstatus_code\u001b[38;5;132;01m}\u001b[39;00m\u001b[38;5;124m Server Error: \u001b[39m\u001b[38;5;132;01m{\u001b[39;00mreason\u001b[38;5;132;01m}\u001b[39;00m\u001b[38;5;124m for url: \u001b[39m\u001b[38;5;132;01m{\u001b[39;00m\u001b[38;5;28mself\u001b[39m\u001b[38;5;241m.\u001b[39murl\u001b[38;5;132;01m}\u001b[39;00m\u001b[38;5;124m\"\u001b[39m\n\u001b[0;32m   1023\u001b[0m     )\n\u001b[0;32m   1025\u001b[0m \u001b[38;5;28;01mif\u001b[39;00m http_error_msg:\n\u001b[1;32m-> 1026\u001b[0m     \u001b[38;5;28;01mraise\u001b[39;00m HTTPError(http_error_msg, response\u001b[38;5;241m=\u001b[39m\u001b[38;5;28mself\u001b[39m)\n",
      "\u001b[1;31mHTTPError\u001b[0m: 401 Client Error: Unauthorized for url: https://openapi.naver.com/v1/search/book.json?query=%ED%8C%8C%EC%9D%B4%EC%8D%AC&display=50&sort=sim"
     ]
    }
   ],
   "source": [
    "import requests\n",
    "import os\n",
    "from dotenv import load_dotenv\n",
    "import json\n",
    "\n",
    "# .env 파일에서 환경 변수 로드\n",
    "load_dotenv()\n",
    "\n",
    "client_id = os.getenv(\"NAVER_CLIENT_ID\")\n",
    "client_secret = os.getenv(\"NAVER_CLIENT_SECRET\")\n",
    "\n",
    "headers = {\n",
    "    'X-Naver-Client-Id': client_id,\n",
    "    'X-Naver-Client-Secret': client_secret,\n",
    "}\n",
    "\n",
    "\n",
    "def search_naver_api(endpoint, query, display=50):\n",
    "    \"\"\"네이버 API 검색 함수\"\"\"\n",
    "    payload = {\n",
    "        'query': query,\n",
    "        'display': display,\n",
    "        'sort': 'sim'\n",
    "    }\n",
    "    url = f'https://openapi.naver.com/v1/search/{endpoint}.json'\n",
    "    res = requests.get(url, params=payload, headers=headers)\n",
    "    res.raise_for_status()  # 에러 발생 시 예외 처리\n",
    "    return res.json().get('items', [])\n",
    "\n",
    "\n",
    "def save_json(data, filepath):\n",
    "    \"\"\"JSON 파일 저장 함수\"\"\"\n",
    "    os.makedirs(os.path.dirname(filepath), exist_ok=True)\n",
    "    with open(filepath, 'w', encoding='utf-8') as f:\n",
    "        json.dump(data, f, ensure_ascii=False, indent=4)\n",
    "\n",
    "\n",
    "if __name__ == '__main__':\n",
    "    books = search_naver_api('book', '파이썬')\n",
    "    save_json(books, '../data/books.json')\n",
    "\n",
    "    shops = search_naver_api('shop', '가디건')\n",
    "    save_json(shops, '../data/shops.json')\n"
   ]
  },
  {
   "cell_type": "code",
   "execution_count": null,
   "id": "b1b406ce",
   "metadata": {},
   "outputs": [],
   "source": [
    "import pandas as pd\n",
    "\n",
    "books_df = pd.read_json('../data/books.json')\n",
    "print(type(books_df))\n",
    "books_df.head(2)"
   ]
  },
  {
   "cell_type": "code",
   "execution_count": null,
   "id": "052e3636",
   "metadata": {},
   "outputs": [],
   "source": [
    "\n",
    "books_df.loc[books_df['discount'] >= 20000,['title','author','discount','publisher','pubdate']]\\\n",
    "    .sort_values(by='discount', ascending=False).reset_index(drop=True)"
   ]
  },
  {
   "cell_type": "code",
   "execution_count": null,
   "id": "bcb63926",
   "metadata": {},
   "outputs": [],
   "source": [
    "# 함수로 정의\n",
    "def filter_and_sort_books(df, min_discount=20000):\n",
    "    \"\"\"\n",
    "    할인 금액이 min_discount 이상인 도서 필터링 후 정렬\n",
    "    \n",
    "    Parameters:\n",
    "        df (DataFrame): 도서 데이터프레임\n",
    "        min_discount (int): 최소 할인 금액 기준 (기본값 20000)\n",
    "\n",
    "    Returns:\n",
    "        DataFrame: 필터링 및 정렬된 결과\n",
    "    \"\"\"\n",
    "    return (\n",
    "        df.loc[df['discount'] >= min_discount, ['title', 'author', 'discount', 'publisher', 'pubdate']]\n",
    "          .sort_values(by='discount', ascending=False)\n",
    "          .reset_index(drop=True)\n",
    "    )\n",
    "\n",
    "filter_and_sort_books(books_df,30000)"
   ]
  },
  {
   "cell_type": "code",
   "execution_count": null,
   "id": "df5f758b",
   "metadata": {},
   "outputs": [],
   "source": [
    "books_df.columns"
   ]
  },
  {
   "cell_type": "code",
   "execution_count": null,
   "id": "641670df",
   "metadata": {},
   "outputs": [],
   "source": [
    "# image , description 컬럼은 제외한 모든 컬럼 출력하기\n",
    "books_df.loc[books_df['publisher'].str.contains('인피니티북스'),\\\n",
    "    books_df.columns.drop(['image','description'])].reset_index(drop=True)"
   ]
  },
  {
   "cell_type": "code",
   "execution_count": null,
   "id": "9d67f3ce",
   "metadata": {},
   "outputs": [],
   "source": [
    "books_df['publisher'].unique()"
   ]
  },
  {
   "cell_type": "code",
   "execution_count": null,
   "id": "37214d7f",
   "metadata": {},
   "outputs": [],
   "source": [
    "def filter_books_by_publisher(df, publisher_name):\n",
    "    \"\"\"\n",
    "    특정 출판사가 포함된 도서만 필터링 (image, description 컬럼 제외)\n",
    "\n",
    "    Parameters:\n",
    "        df (DataFrame): 도서 데이터프레임\n",
    "        publisher_name (str): 포함할 출판사 이름\n",
    "\n",
    "    Returns:\n",
    "        DataFrame: 필터링된 결과\n",
    "    \"\"\"\n",
    "    return (\n",
    "        df.loc[df['publisher'].str.contains(publisher_name), df.columns.drop(['image', 'description'])]\n",
    "          .reset_index(drop=True)\n",
    "    )\n",
    "\n",
    "filter_books_by_publisher(books_df,'한빛미디어')"
   ]
  },
  {
   "cell_type": "code",
   "execution_count": null,
   "id": "e6fd14dd",
   "metadata": {},
   "outputs": [],
   "source": [
    "import pandas as pd\n",
    "\n",
    "shops_df = pd.read_json('../data/shops.json')\n",
    "print(type(shops_df))\n",
    "shops_df.head(2)"
   ]
  },
  {
   "cell_type": "code",
   "execution_count": null,
   "id": "522e8d1b",
   "metadata": {},
   "outputs": [],
   "source": [
    "shops_df.info()"
   ]
  },
  {
   "cell_type": "code",
   "execution_count": null,
   "id": "6d6aa726",
   "metadata": {},
   "outputs": [],
   "source": [
    "shops_df.loc[shops_df['lprice'] <= 50000,['brand','lprice','mallName','link']]\\\n",
    "    .sort_values(by='lprice').reset_index(drop=True)"
   ]
  },
  {
   "cell_type": "code",
   "execution_count": null,
   "id": "e5fb4439",
   "metadata": {},
   "outputs": [],
   "source": [
    "def filter_and_sort_shops(df, max_price=50000):\n",
    "    \"\"\"\n",
    "    최대 가격 이하 상품 필터링 후 가격 기준 오름차순 정렬\n",
    "\n",
    "    Parameters:\n",
    "        df (DataFrame): 쇼핑 데이터프레임\n",
    "        max_price (int): 최대 가격 기준 (기본값 50000)\n",
    "\n",
    "    Returns:\n",
    "        DataFrame: 필터링 및 정렬된 결과\n",
    "    \"\"\"\n",
    "    return (\n",
    "        df.loc[df['lprice'] <= max_price, ['brand', 'lprice', 'mallName', 'link']]\n",
    "          .sort_values(by='lprice')\n",
    "          .reset_index(drop=True)\n",
    "    )\n",
    "\n",
    "filter_and_sort_shops(shops_df,20000)"
   ]
  },
  {
   "cell_type": "code",
   "execution_count": null,
   "id": "b5237396",
   "metadata": {},
   "outputs": [],
   "source": [
    "shops_df.columns"
   ]
  },
  {
   "cell_type": "code",
   "execution_count": null,
   "id": "41a2b311",
   "metadata": {},
   "outputs": [],
   "source": [
    "shops_df.loc[shops_df['mallName'] == '네이버','lprice':'brand']\\\n",
    "    .sort_values(by='lprice').reset_index(drop=True)"
   ]
  },
  {
   "cell_type": "code",
   "execution_count": null,
   "id": "58180b4b",
   "metadata": {},
   "outputs": [],
   "source": [
    "shops_df['mallName'].unique()"
   ]
  },
  {
   "cell_type": "code",
   "execution_count": null,
   "id": "c0bbe794",
   "metadata": {},
   "outputs": [],
   "source": [
    "shops_df['brand'].unique()"
   ]
  },
  {
   "cell_type": "code",
   "execution_count": null,
   "id": "287f4d5a",
   "metadata": {},
   "outputs": [
    {
     "ename": "NameError",
     "evalue": "name 'shops_df' is not defined",
     "output_type": "error",
     "traceback": [
      "\u001b[1;31m---------------------------------------------------------------------------\u001b[0m",
      "\u001b[1;31mNameError\u001b[0m                                 Traceback (most recent call last)",
      "Cell \u001b[1;32mIn[4], line 18\u001b[0m\n\u001b[0;32m      2\u001b[0m \u001b[38;5;250m    \u001b[39m\u001b[38;5;124;03m\"\"\"\u001b[39;00m\n\u001b[0;32m      3\u001b[0m \u001b[38;5;124;03m    특정 쇼핑몰 상품만 필터링 후 가격 기준 오름차순 정렬\u001b[39;00m\n\u001b[0;32m      4\u001b[0m \n\u001b[1;32m   (...)\u001b[0m\n\u001b[0;32m     10\u001b[0m \u001b[38;5;124;03m        DataFrame: 필터링 및 정렬된 결과\u001b[39;00m\n\u001b[0;32m     11\u001b[0m \u001b[38;5;124;03m    \"\"\"\u001b[39;00m\n\u001b[0;32m     12\u001b[0m     \u001b[38;5;28;01mreturn\u001b[39;00m (\n\u001b[0;32m     13\u001b[0m         df\u001b[38;5;241m.\u001b[39mloc[df[\u001b[38;5;124m'\u001b[39m\u001b[38;5;124mmallName\u001b[39m\u001b[38;5;124m'\u001b[39m] \u001b[38;5;241m==\u001b[39m mall_name, \u001b[38;5;124m'\u001b[39m\u001b[38;5;124mlprice\u001b[39m\u001b[38;5;124m'\u001b[39m:\u001b[38;5;124m'\u001b[39m\u001b[38;5;124mbrand\u001b[39m\u001b[38;5;124m'\u001b[39m]\n\u001b[0;32m     14\u001b[0m           \u001b[38;5;241m.\u001b[39msort_values(by\u001b[38;5;241m=\u001b[39m\u001b[38;5;124m'\u001b[39m\u001b[38;5;124mlprice\u001b[39m\u001b[38;5;124m'\u001b[39m)\n\u001b[0;32m     15\u001b[0m           \u001b[38;5;241m.\u001b[39mreset_index(drop\u001b[38;5;241m=\u001b[39m\u001b[38;5;28;01mTrue\u001b[39;00m)\n\u001b[0;32m     16\u001b[0m     )\n\u001b[1;32m---> 18\u001b[0m filter_shops_by_mall(shops_df,\u001b[38;5;124m'\u001b[39m\u001b[38;5;124m나우인뉴욕\u001b[39m\u001b[38;5;124m'\u001b[39m)\n",
      "\u001b[1;31mNameError\u001b[0m: name 'shops_df' is not defined"
     ]
    }
   ],
   "source": [
    "def filter_shops_by_mall(df, mall_name='네이버'):\n",
    "    \"\"\"\n",
    "    특정 쇼핑몰 상품만 필터링 후 가격 기준 오름차순 정렬\n",
    "\n",
    "    Parameters:\n",
    "        df (DataFrame): 쇼핑 데이터프레임\n",
    "        mall_name (str): 쇼핑몰 이름 (기본값 '네이버')\n",
    "\n",
    "    Returns:\n",
    "        DataFrame: 필터링 및 정렬된 결과\n",
    "    \"\"\"\n",
    "    return (\n",
    "        df.loc[df['mallName'] == mall_name, 'lprice':'brand']\n",
    "          .sort_values(by='lprice')\n",
    "          .reset_index(drop=True)\n",
    "    )\n",
    "\n",
    "filter_shops_by_mall(shops_df,'나우인뉴욕')"
   ]
  },
  {
   "cell_type": "markdown",
   "id": "92ba6d45",
   "metadata": {},
   "source": [
    "#### mallName 또는 brand 로 검색하기"
   ]
  },
  {
   "cell_type": "code",
   "execution_count": null,
   "id": "ee5cec38",
   "metadata": {},
   "outputs": [],
   "source": [
    "def filter_shops(df, keyword, search_type='mall'):\n",
    "    \"\"\"\n",
    "    mallName 또는 brand 기준으로 필터링 후 가격 오름차순 정렬\n",
    "\n",
    "    Parameters:\n",
    "        df (DataFrame): 쇼핑 데이터프레임\n",
    "        keyword (str): 검색할 값 (예: '네이버', '폴로랄프로렌')\n",
    "        search_type (str): 'mall' or 'brand' (기본값 'mall')\n",
    "\n",
    "    Returns:\n",
    "        DataFrame: 필터링 및 정렬된 결과\n",
    "    \"\"\"\n",
    "    \n",
    "    if search_type == 'mall':\n",
    "        condition = df['mallName'] == keyword\n",
    "    elif search_type == 'brand':\n",
    "        condition = df['brand'] == keyword\n",
    "    else:\n",
    "        raise ValueError(\"search_type은 'mall' 또는 'brand'만 가능합니다.\")\n",
    "\n",
    "    return (\n",
    "        df.loc[condition, 'lprice':'brand']\n",
    "          .sort_values(by='lprice')\n",
    "          .reset_index(drop=True)\n",
    "    )\n",
    "\n",
    "filter_shops(shops_df,'라코스테','brand')"
   ]
  }
 ],
 "metadata": {
  "kernelspec": {
   "display_name": "base",
   "language": "python",
   "name": "python3"
  },
  "language_info": {
   "codemirror_mode": {
    "name": "ipython",
    "version": 3
   },
   "file_extension": ".py",
   "mimetype": "text/x-python",
   "name": "python",
   "nbconvert_exporter": "python",
   "pygments_lexer": "ipython3",
   "version": "3.12.7"
  }
 },
 "nbformat": 4,
 "nbformat_minor": 5
}
